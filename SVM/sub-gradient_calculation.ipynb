{
 "cells": [
  {
   "cell_type": "code",
   "execution_count": 1,
   "id": "ba397a6e-d9c0-4387-b25c-85f300228e34",
   "metadata": {},
   "outputs": [
    {
     "name": "stdout",
     "output_type": "stream",
     "text": [
      "Epoch: 0\n",
      "ywx: 0.0\n",
      "update for ywx<1\n",
      "[ 0.01   0.005 -0.01   0.003]\n",
      "ywx: -0.018999999999999996\n",
      "update for ywx<1\n",
      "[0.      0.01495 0.0101  0.02297]\n",
      "ywx: -0.03297999999999999\n",
      "update for ywx<1\n",
      "[ 0.01       0.0298005  0.011999  -0.0022597]\n",
      "Epoch: 1\n",
      "ywx: 0.01222334\n",
      "update for ywx<1\n",
      "[ 0.015      0.0321515  0.006939  -0.0007484]\n",
      "ywx: 0.0295327045\n",
      "update for ywx<1\n",
      "[0.01       0.03699074 0.01690431 0.00925534]\n",
      "ywx: 0.045728620744999976\n",
      "update for ywx<1\n",
      "[ 0.015       0.04430579  0.01781979 -0.00329094]\n",
      "Epoch: 2\n",
      "ywx: 0.018345823872582497\n",
      "update for ywx<1\n",
      "[ 0.0175      0.04544502  0.01527524 -0.00253271]\n",
      "ywx: 0.05343008204568096\n",
      "update for ywx<1\n",
      "[0.015      0.04783141 0.02023705 0.00247362]\n",
      "ywx: 0.08461046681542886\n",
      "update for ywx<1\n",
      "[ 0.0175      0.05146183  0.02068646 -0.00378256]\n",
      "after 3 steps \n",
      "[ 0.0175      0.05146183  0.02068646 -0.00378256]\n"
     ]
    }
   ],
   "source": [
    "import numpy as np\n",
    "X = np.array([[1, 0.5, -1, 0.3], [1, -1, -2, -2], [1, 1.5, 0.2, -2.5]])\n",
    "y = np.array([1, -1, 1])\n",
    "C = 1/3\n",
    "weights = np.array([0,0,0,0])\n",
    "lr = [0.01, 0.005, 0.0025]\n",
    "\n",
    "X_len = np.arange(len(X))\n",
    "\n",
    "\n",
    "for epoch in range(len(lr)):\n",
    "    print(\"Epoch: %d\" % epoch)\n",
    "    for i in X_len:\n",
    "        print(\"ywx:\", np.sign(y[i]) * np.dot(weights, X[i]))\n",
    "        if np.sign(y[i]) * np.dot(weights, X[i]) <= 1:\n",
    "            print(\"update for ywx<1\")\n",
    "            nweights = weights.copy()\n",
    "            nweights[0] = 0\n",
    "            weights = weights - lr[epoch]*nweights + lr[epoch]*C*len(X_len)*np.sign(y[i])*X[i]\n",
    "\n",
    "        else:\n",
    "            print(\"update for ywx>1\")\n",
    "            weights = (1-lr[epoch])*weights\n",
    "\n",
    "        print(weights)\n",
    "\n",
    "print(\"after 3 steps \")\n",
    "print(weights)"
   ]
  },
  {
   "cell_type": "code",
   "execution_count": null,
   "id": "8aed1249",
   "metadata": {},
   "outputs": [],
   "source": []
  }
 ],
 "metadata": {
  "kernelspec": {
   "display_name": "Python 3 (ipykernel)",
   "language": "python",
   "name": "python3"
  },
  "language_info": {
   "codemirror_mode": {
    "name": "ipython",
    "version": 3
   },
   "file_extension": ".py",
   "mimetype": "text/x-python",
   "name": "python",
   "nbconvert_exporter": "python",
   "pygments_lexer": "ipython3",
   "version": "3.13.0rc1"
  }
 },
 "nbformat": 4,
 "nbformat_minor": 5
}

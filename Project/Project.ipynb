{
 "cells": [
  {
   "cell_type": "code",
   "execution_count": null,
   "id": "f22c5104",
   "metadata": {
    "ExecuteTime": {
     "end_time": "2021-09-15T11:19:35.241597Z",
     "start_time": "2021-09-15T11:19:32.655944Z"
    }
   },
   "outputs": [],
   "source": [
    "import os\n",
    "import sys\n",
    "from datetime import datetime\n",
    "\n",
    "import numpy as np\n",
    "import sympy as sp\n",
    "from typing import Union\n",
    "from matplotlib import pyplot as plt\n",
    "\n",
    "import torch\n",
    "import torch.nn as nn\n",
    "import torch.nn.functional as F\n",
    "from torch.utils.data import DataLoader\n",
    "from torchvision import datasets, transforms\n",
    "\n",
    "from numba import jit\n",
    "\n",
    "%matplotlib inline"
   ]
  },
  {
   "cell_type": "markdown",
   "id": "2a73ffce",
   "metadata": {},
   "source": [
    "## Parameter Setup"
   ]
  },
  {
   "cell_type": "code",
   "execution_count": null,
   "id": "10b04829",
   "metadata": {
    "ExecuteTime": {
     "end_time": "2021-09-15T11:19:35.873439Z",
     "start_time": "2021-09-15T11:19:35.869318Z"
    }
   },
   "outputs": [],
   "source": [
    "DEVICE = 'cuda' if torch.cuda.is_available() else 'cpu'\n",
    "\n",
    "RANDOM_SEED = 20210701\n",
    "LEARNING_RATE = 0.001\n",
    "BATCH_SIZE = 32\n",
    "N_EPOCHS = 5\n",
    "\n",
    "IMG_SIZE = 32\n",
    "N_CLASSES = 10"
   ]
  },
  {
   "cell_type": "markdown",
   "id": "ba5e1072",
   "metadata": {},
   "source": [
    "## Model Architecture"
   ]
  },
  {
   "cell_type": "code",
   "execution_count": null,
   "id": "bd0d9cc0",
   "metadata": {
    "ExecuteTime": {
     "end_time": "2021-09-15T11:19:37.113869Z",
     "start_time": "2021-09-15T11:19:37.106155Z"
    }
   },
   "outputs": [],
   "source": [
    "class LeNet5(nn.Module):\n",
    "\n",
    "    def __init__(self, n_classes):\n",
    "        super(LeNet5, self).__init__()\n",
    "        \n",
    "        self.feature_extractor = nn.Sequential(            \n",
    "            nn.Conv2d(in_channels=1, out_channels=6, kernel_size=5, stride=1),\n",
    "            nn.Tanh(),\n",
    "            nn.AvgPool2d(kernel_size=2),\n",
    "            nn.Conv2d(in_channels=6, out_channels=16, kernel_size=5, stride=1),\n",
    "            nn.Tanh(),\n",
    "            nn.AvgPool2d(kernel_size=2),\n",
    "            nn.Conv2d(in_channels=16, out_channels=120, kernel_size=5, stride=1),\n",
    "            nn.Tanh()\n",
    "        )\n",
    "\n",
    "        self.classifier = nn.Sequential(\n",
    "            nn.Linear(in_features=120, out_features=84),\n",
    "            nn.Tanh(),\n",
    "            nn.Linear(in_features=84, out_features=n_classes),\n",
    "        )\n",
    "\n",
    "\n",
    "    def forward(self, x):\n",
    "        x = self.feature_extractor(x)\n",
    "        x = torch.flatten(x, 1)\n",
    "        logits = self.classifier(x)\n",
    "        probs = F.softmax(logits, dim=1)\n",
    "        return logits, probs"
   ]
  },
  {
   "cell_type": "markdown",
   "id": "91b075f1",
   "metadata": {},
   "source": [
    "## Helper Functions"
   ]
  },
  {
   "cell_type": "code",
   "execution_count": null,
   "id": "b586116e",
   "metadata": {
    "ExecuteTime": {
     "end_time": "2021-09-15T11:20:10.521651Z",
     "start_time": "2021-09-15T11:19:38.745195Z"
    }
   },
   "outputs": [],
   "source": [
    "# define transform\n",
    "transform = transforms.Compose([transforms.Resize((32, 32)),\n",
    "                                 transforms.ToTensor()])\n",
    "\n",
    "# download and create datasets\n",
    "download_flag = False if os.path.exists('data/MNIST') else False\n",
    "\n",
    "train_dataset = datasets.MNIST(root='data/MNIST', \n",
    "                               train=True, \n",
    "                               transform=transform,\n",
    "                               download=True)\n",
    "\n",
    "valid_dataset = datasets.MNIST(root='data/MNIST', \n",
    "                               train=False, \n",
    "                               transform=transform)\n",
    "\n",
    "# define the data loaders\n",
    "train_loader = DataLoader(dataset=train_dataset, \n",
    "                          batch_size=BATCH_SIZE, \n",
    "                          shuffle=True)\n",
    "\n",
    "valid_loader = DataLoader(dataset=valid_dataset, \n",
    "                          batch_size=BATCH_SIZE, \n",
    "                          shuffle=False)"
   ]
  },
  {
   "cell_type": "code",
   "execution_count": null,
   "id": "aeb71c3b",
   "metadata": {
    "ExecuteTime": {
     "end_time": "2021-09-15T11:20:25.964107Z",
     "start_time": "2021-09-15T11:20:25.953767Z"
    }
   },
   "outputs": [],
   "source": [
    "def get_accuracy(model, data_loader, device):\n",
    "    '''\n",
    "    Function for computing the accuracy of the predictions over the entire data_loader\n",
    "    '''\n",
    "    \n",
    "    correct_pred = 0 \n",
    "    n = 0\n",
    "    \n",
    "    with torch.no_grad():\n",
    "        model.eval()\n",
    "        for X, y_true in data_loader:\n",
    "\n",
    "            X = X.to(device)\n",
    "            y_true = y_true.to(device)\n",
    "\n",
    "            _, y_prob = model(X)\n",
    "            _, predicted_labels = torch.max(y_prob, 1)\n",
    "\n",
    "            n += y_true.size(0)\n",
    "            correct_pred += (predicted_labels == y_true).sum()\n",
    "\n",
    "    return correct_pred.float() / n\n",
    "\n",
    "def plot_losses(train_losses, valid_losses):\n",
    "    '''\n",
    "    Function for plotting training and validation losses\n",
    "    '''\n",
    "    \n",
    "    # temporarily change the style of the plots to seaborn \n",
    "    # plt.style.use('seaborn')\n",
    "    plt.style.use('ggplot')\n",
    "\n",
    "    train_losses = np.array(train_losses) \n",
    "    valid_losses = np.array(valid_losses)\n",
    "\n",
    "    fig, ax = plt.subplots(figsize = (8, 4.5))\n",
    "\n",
    "    ax.plot(train_losses, color='blue', label='Training loss') \n",
    "    ax.plot(valid_losses, color='red', label='Validation loss')\n",
    "    ax.set(title=\"Loss over epochs\", \n",
    "            xlabel='Epoch',\n",
    "            ylabel='Loss') \n",
    "    ax.legend()\n",
    "    fig.show()\n",
    "    \n",
    "    # change the plot style to default\n",
    "    plt.style.use('default')"
   ]
  },
  {
   "cell_type": "code",
   "execution_count": null,
   "id": "c0bfffe1",
   "metadata": {
    "ExecuteTime": {
     "end_time": "2021-09-15T11:20:27.401115Z",
     "start_time": "2021-09-15T11:20:27.395398Z"
    }
   },
   "outputs": [],
   "source": [
    "def train(train_loader, model, criterion, optimizer, device):\n",
    "    '''\n",
    "    Function for the training step of the training loop\n",
    "    '''\n",
    "\n",
    "    model.train()\n",
    "    running_loss = 0\n",
    "    \n",
    "    for X, y_true in train_loader:\n",
    "\n",
    "        optimizer.zero_grad()\n",
    "        \n",
    "        X = X.to(device)\n",
    "        y_true = y_true.to(device)\n",
    "    \n",
    "        # Forward pass\n",
    "        y_hat, _ = model(X) \n",
    "        loss = criterion(y_hat, y_true) \n",
    "        running_loss += loss.item() * X.size(0)\n",
    "\n",
    "        # Backward pass\n",
    "        loss.backward()\n",
    "        optimizer.step()\n",
    "        \n",
    "    epoch_loss = running_loss / len(train_loader.dataset)\n",
    "    return model, optimizer, epoch_loss"
   ]
  },
  {
   "cell_type": "code",
   "execution_count": null,
   "id": "3bb75ab6",
   "metadata": {
    "ExecuteTime": {
     "end_time": "2021-09-15T11:20:28.254869Z",
     "start_time": "2021-09-15T11:20:28.249715Z"
    }
   },
   "outputs": [],
   "source": [
    "def validate(valid_loader, model, criterion, device):\n",
    "    '''\n",
    "    Function for the validation step of the training loop\n",
    "    '''\n",
    "   \n",
    "    model.eval()\n",
    "    running_loss = 0\n",
    "    \n",
    "    for X, y_true in valid_loader:\n",
    "    \n",
    "        X = X.to(device)\n",
    "        y_true = y_true.to(device)\n",
    "\n",
    "        # Forward pass and record loss\n",
    "        y_hat, _ = model(X) \n",
    "        loss = criterion(y_hat, y_true) \n",
    "        running_loss += loss.item() * X.size(0)\n",
    "\n",
    "    epoch_loss = running_loss / len(valid_loader.dataset)\n",
    "        \n",
    "    return model, epoch_loss"
   ]
  },
  {
   "cell_type": "code",
   "execution_count": null,
   "id": "9ea7c286",
   "metadata": {
    "ExecuteTime": {
     "end_time": "2021-09-15T11:20:29.339773Z",
     "start_time": "2021-09-15T11:20:29.329290Z"
    }
   },
   "outputs": [],
   "source": [
    "def training_loop(model, criterion, optimizer, train_loader, valid_loader, epochs, device, print_every=1):\n",
    "    '''\n",
    "    Function defining the entire training loop\n",
    "    '''\n",
    "    \n",
    "    # set objects for storing metrics\n",
    "    best_loss = 1e10\n",
    "    train_losses = []\n",
    "    valid_losses = []\n",
    " \n",
    "    # Train model\n",
    "    for epoch in range(0, epochs):\n",
    "\n",
    "        # training\n",
    "        model, optimizer, train_loss = train(train_loader, model, criterion, optimizer, device)\n",
    "        train_losses.append(train_loss)\n",
    "\n",
    "        # validation\n",
    "        with torch.no_grad():\n",
    "            model, valid_loss = validate(valid_loader, model, criterion, device)\n",
    "            valid_losses.append(valid_loss)\n",
    "\n",
    "        if epoch % print_every == (print_every - 1):\n",
    "            \n",
    "            train_acc = get_accuracy(model, train_loader, device=device)\n",
    "            valid_acc = get_accuracy(model, valid_loader, device=device)\n",
    "                \n",
    "            print(f'{datetime.now().time().replace(microsecond=0)} --- '\n",
    "                  f'Epoch: {epoch}\\t'\n",
    "                  f'Train loss: {train_loss:.4f}\\t'\n",
    "                  f'Valid loss: {valid_loss:.4f}\\t'\n",
    "                  f'Train accuracy: {100 * train_acc:.2f}\\t'\n",
    "                  f'Valid accuracy: {100 * valid_acc:.2f}')\n",
    "\n",
    "    plot_losses(train_losses, valid_losses)\n",
    "    \n",
    "    return model, optimizer, (train_losses, valid_losses)"
   ]
  },
  {
   "cell_type": "markdown",
   "id": "f5261944",
   "metadata": {},
   "source": [
    "## Training"
   ]
  },
  {
   "cell_type": "code",
   "execution_count": null,
   "id": "77d85ae8",
   "metadata": {
    "ExecuteTime": {
     "end_time": "2021-09-15T11:20:33.216009Z",
     "start_time": "2021-09-15T11:20:33.175993Z"
    }
   },
   "outputs": [],
   "source": [
    "torch.manual_seed(RANDOM_SEED)\n",
    "\n",
    "model = LeNet5(N_CLASSES).to(DEVICE)\n",
    "optimizer = torch.optim.Adam(model.parameters(), lr=LEARNING_RATE)\n",
    "criterion = nn.CrossEntropyLoss()"
   ]
  },
  {
   "cell_type": "code",
   "execution_count": null,
   "id": "181d3572",
   "metadata": {
    "ExecuteTime": {
     "end_time": "2021-09-15T11:23:31.360321Z",
     "start_time": "2021-09-15T11:20:37.660876Z"
    }
   },
   "outputs": [],
   "source": [
    "model, optimizer, _ = training_loop(model, criterion, optimizer, train_loader, valid_loader, N_EPOCHS, DEVICE)"
   ]
  },
  {
   "cell_type": "markdown",
   "id": "e877dec4",
   "metadata": {},
   "source": [
    "# Unitary Decomposition"
   ]
  },
  {
   "cell_type": "markdown",
   "id": "be5108b8",
   "metadata": {},
   "source": [
    "## Helper Functions"
   ]
  },
  {
   "cell_type": "code",
   "execution_count": null,
   "id": "f7d5243e",
   "metadata": {
    "ExecuteTime": {
     "end_time": "2021-09-15T12:07:36.155844Z",
     "start_time": "2021-09-15T12:07:36.125695Z"
    }
   },
   "outputs": [],
   "source": [
    "@jit(nopython=True)\n",
    "def atan2f(y, x, tolerance=1e-6, to_degree=False):\n",
    "    zero_y = np.abs(y) <= tolerance\n",
    "    zero_x = np.abs(x) <= tolerance\n",
    "    if zero_x and zero_y:\n",
    "        rad = 0\n",
    "    elif zero_x and (not zero_y):\n",
    "        rad = np.pi/2 if y > tolerance else -np.pi/2\n",
    "    elif (not zero_x) and zero_y:\n",
    "        rad = 0 if x > tolerance else np.pi\n",
    "    else:\n",
    "        rad = np.arctan2(y, x)\n",
    "    if to_degree:\n",
    "        return np.rad2deg(rad)\n",
    "    else:\n",
    "        return rad\n",
    "    \n",
    "\n",
    "@jit(nopython=True)\n",
    "def angle_diff(comp_src, comp_dst, offset=0, tolerance=1e-6, wrap=True, to_degree=False):\n",
    "    zero_src = np.abs(comp_src) <= tolerance\n",
    "    zero_dst = np.abs(comp_dst) <= tolerance\n",
    "    if zero_src and zero_dst:\n",
    "        rad = 0\n",
    "    elif zero_src and (not zero_dst):\n",
    "        rad = np.angle(comp_dst)\n",
    "    elif (not zero_src) and zero_dst:\n",
    "        rad = -np.angle(comp_src)\n",
    "    else:\n",
    "        rad = np.angle(comp_dst) - np.angle(comp_src)\n",
    "    rad += offset\n",
    "    if wrap:\n",
    "        rad = np.mod(rad, 2 * np.pi)\n",
    "    if to_degree:\n",
    "        return np.rad2deg(rad)\n",
    "    else:\n",
    "        return rad"
   ]
  },
  {
   "cell_type": "markdown",
   "id": "3fa04f54",
   "metadata": {},
   "source": [
    "## Types of Unitary Blocks"
   ]
  },
  {
   "cell_type": "code",
   "execution_count": null,
   "id": "51716725",
   "metadata": {
    "ExecuteTime": {
     "end_time": "2021-09-15T12:07:37.265884Z",
     "start_time": "2021-09-15T12:07:37.245380Z"
    }
   },
   "outputs": [],
   "source": [
    "def U2BS(dim, m, n, phi, theta, use_sym=False, Lp=1, Lc=1):\n",
    "    assert m < n < dim\n",
    "    if use_sym:\n",
    "        mat = sp.eye(dim)\n",
    "        mat[m, m] = sp.sqrt(Lp) * sp.exp(sp.I * phi) * sp.cos(theta)\n",
    "        mat[m, n] = sp.sqrt(Lc) * sp.I * sp.sin(theta)\n",
    "        mat[n, m] = sp.sqrt(Lc) * sp.I * sp.exp(sp.I * phi) * sp.sin(theta)\n",
    "        mat[n, n] = sp.sqrt(Lp) * sp.cos(theta)\n",
    "    else:\n",
    "        mat = np.eye(dim, dtype=np.complex128)\n",
    "        mat[m, m] = np.sqrt(Lp) * np.exp(1j * phi) * np.cos(theta)\n",
    "        mat[m, n] = np.sqrt(Lc) * 1j * np.sin(theta)\n",
    "        mat[n, m] = np.sqrt(Lc) * 1j * np.exp(1j * phi) * np.sin(theta)\n",
    "        mat[n, n] = np.sqrt(Lp) * np.cos(theta)\n",
    "    return mat\n",
    "\n",
    "\n",
    "def U2MZI(dim, m, n, phi, theta, use_sym=False, Lp=1, Lc=1):\n",
    "    assert m < n < dim\n",
    "    if use_sym:\n",
    "        mat = sp.eye(dim)\n",
    "        mat[m, m] = sp.sqrt(Lp) * sp.I * sp.exp(sp.I * phi) * sp.sin(theta)\n",
    "        mat[m, n] = sp.sqrt(Lc) * sp.I * sp.cos(theta)\n",
    "        mat[n, m] = sp.sqrt(Lc) * sp.I * sp.exp(sp.I * phi) * sp.cos(theta)\n",
    "        mat[n, n] = -sp.sqrt(Lp) * sp.I * sp.sin(theta)\n",
    "    else:\n",
    "        mat = np.eye(dim, dtype=np.complex128)\n",
    "        mat[m, m] = np.sqrt(Lp) * 1j *np.exp(1j * phi) * np.sin(theta)\n",
    "        mat[m, n] = np.sqrt(Lc) * 1j * np.cos(theta)\n",
    "        mat[n, m] = np.sqrt(Lc) * 1j * np.exp(1j * phi) * np.cos(theta)\n",
    "        mat[n, n] = -np.sqrt(Lp) * 1j * np.sin(theta)\n",
    "    return mat"
   ]
  },
  {
   "cell_type": "markdown",
   "id": "296283bd",
   "metadata": {},
   "source": [
    "## Decomposition Methods"
   ]
  },
  {
   "cell_type": "markdown",
   "id": "45de04dc",
   "metadata": {},
   "source": [
    "### Reck's Encoding"
   ]
  },
  {
   "cell_type": "code",
   "execution_count": null,
   "id": "2e6ddf18",
   "metadata": {
    "ExecuteTime": {
     "end_time": "2021-09-15T12:07:38.976017Z",
     "start_time": "2021-09-15T12:07:38.955421Z"
    }
   },
   "outputs": [],
   "source": [
    "def decompose_reck(u, block='bs'):\n",
    "    assert isinstance(u, np.ndarray)\n",
    "    assert isinstance(block, str) and block.strip().lower() in ['bs', 'mzi']\n",
    "    if len(u.shape) != 2:\n",
    "        raise ValueError(\"U(N) should be 2-dimension matrix.\")\n",
    "        \n",
    "    if u.shape[0] != u.shape[1]:\n",
    "        raise ValueError(\"U(N) should be a square matrix.\")\n",
    "        \n",
    "    mat = u.copy().astype(np.complex128)\n",
    "    dim = mat.shape[0]\n",
    "    num = int(dim * (dim - 1) / 2)\n",
    "    phis = np.zeros(num)\n",
    "    thetas = np.zeros(num)\n",
    "    alphas = np.zeros(dim)\n",
    "    index = 0\n",
    "    for p in range(1, dim):\n",
    "        x = dim - p\n",
    "        for q in range(dim-p, 0, -1):\n",
    "            y = q - 1\n",
    "            if block == 'bs':\n",
    "                thetas[index] = atan2f(np.abs(mat[x,y]), np.abs(mat[x,x]))\n",
    "                phis[index] = angle_diff(mat[x,x], mat[x,y], offset=-np.pi/2)\n",
    "                U2block = U2BS\n",
    "            elif block == 'mzi':\n",
    "                thetas[index] = np.pi/2 - atan2f(np.abs(mat[x,y]), np.abs(mat[x,x]))\n",
    "                phis[index] = angle_diff(mat[x,x], mat[x,y], offset=np.pi)\n",
    "                U2block = U2MZI\n",
    "            mat = mat @ U2block(dim, y, x, phis[index], thetas[index]).conj().T\n",
    "            index += 1\n",
    "    for i in range(dim):\n",
    "        alphas[i] = np.angle(mat[i, i])\n",
    "    return phis, thetas, alphas\n",
    "\n",
    "\n",
    "def reconstruct_reck(phis, thetas, alphas, block='bs', Lp_dB=0, Lc_dB=0):\n",
    "    assert len(phis.squeeze().shape) == 1\n",
    "    assert len(thetas.squeeze().shape) == 1\n",
    "    assert len(alphas.squeeze().shape) == 1\n",
    "    assert phis.squeeze().shape[0] == thetas.squeeze().shape[0]\n",
    "    assert isinstance(block, str) and block.strip().lower() in ['bs', 'mzi']\n",
    "    if block == 'bs':\n",
    "        U2block = U2BS\n",
    "    elif block == 'mzi':\n",
    "        U2block = U2MZI\n",
    "    \n",
    "    num = thetas.squeeze().shape[0]\n",
    "    dim = int((1 + np.sqrt(1 + 8 * num))/ 2)\n",
    "    assert alphas.squeeze().shape[0] == dim\n",
    "    \n",
    "    Lp = 10 ** (Lp_dB / 10)\n",
    "    Lc = 10 ** (Lc_dB / 10)\n",
    "    \n",
    "    mat = np.diag(np.exp(1j * alphas))\n",
    "    index = num\n",
    "    for p in range(1, dim):\n",
    "        for q in range(p):\n",
    "            index -= 1\n",
    "            mat = mat @ U2block(dim, q, p, phis[index], thetas[index], Lp=Lp, Lc=Lc)\n",
    "    return mat"
   ]
  },
  {
   "cell_type": "markdown",
   "id": "1e4c16bc",
   "metadata": {},
   "source": [
    "### Clements' Encoding"
   ]
  },
  {
   "cell_type": "code",
   "execution_count": null,
   "id": "b3d5ea27",
   "metadata": {
    "ExecuteTime": {
     "end_time": "2021-09-15T12:07:40.221496Z",
     "start_time": "2021-09-15T12:07:40.191890Z"
    }
   },
   "outputs": [],
   "source": [
    "def decompose_clements(u, block='bs'):\n",
    "    assert isinstance(u, np.ndarray)\n",
    "    assert isinstance(block, str) and block.strip().lower() in ['bs', 'mzi']\n",
    "    if len(u.shape) != 2:\n",
    "        raise ValueError(\"U(N) should be 2-dimension matrix.\")\n",
    "        \n",
    "    if u.shape[0] != u.shape[1]:\n",
    "        raise ValueError(\"U(N) should be a square matrix.\")\n",
    "        \n",
    "    mat = u.copy().astype(np.complex128)\n",
    "    dim = mat.shape[0]\n",
    "    \n",
    "    row = dim - 1\n",
    "    col = int(np.ceil(dim / 2))\n",
    "    \n",
    "    cnt_fore = np.zeros(row, dtype=int)\n",
    "    cnt_back = np.ones(row, dtype=int) * (col - 1)\n",
    "    if dim % 2 == 1:\n",
    "        cnt_back[1::2] = col - 2\n",
    "    \n",
    "    phis = np.zeros((row, col))\n",
    "    thetas = np.zeros((row, col))\n",
    "    alphas = np.zeros(dim)\n",
    "    \n",
    "    for p in range(dim-1):\n",
    "        for q in range(p+1):\n",
    "            if p % 2 == 0:\n",
    "                x = dim - 1 - q\n",
    "                y = p - q\n",
    "                if block == 'bs':\n",
    "                    theta = atan2f(np.abs(mat[x,y]), np.abs(mat[x,y+1]))\n",
    "                    phi = angle_diff(mat[x,y+1], mat[x,y], offset=-np.pi/2)\n",
    "                    U2block = U2BS\n",
    "                elif block == 'mzi':\n",
    "                    theta = np.pi/2 - atan2f(np.abs(mat[x,y]), np.abs(mat[x,y+1]))\n",
    "                    phi = angle_diff(mat[x,y+1], mat[x,y], offset=np.pi)\n",
    "                    U2block = U2MZI\n",
    "                mat = mat @ U2block(dim, y, y+1, phi, theta).conj().T\n",
    "                thetas[y, cnt_fore[y]] = theta\n",
    "                phis[y, cnt_fore[y]] = phi\n",
    "                cnt_fore[y] += 1\n",
    "            else:\n",
    "                x = dim - 1 - p + q\n",
    "                y = q\n",
    "                if block == 'bs':\n",
    "                    theta = atan2f(np.abs(mat[x,y]), np.abs(mat[x-1,y]))\n",
    "                    phi = angle_diff(mat[x-1,y], mat[x,y], offset=np.pi/2)\n",
    "                    U2block = U2BS\n",
    "                elif block == 'mzi':\n",
    "                    theta = np.pi/2 - atan2f(np.abs(mat[x,y]), np.abs(mat[x-1,y]))\n",
    "                    phi = angle_diff(mat[x-1,y], mat[x,y], offset=0)\n",
    "                    U2block = U2MZI\n",
    "                mat = U2block(dim, x-1, x, phi, theta) @ mat\n",
    "                thetas[x-1, cnt_back[x-1]] = theta\n",
    "                phis[x-1, cnt_back[x-1]] = phi\n",
    "                cnt_back[x-1] -= 1\n",
    "    for p in range(dim-2, -1, -1):\n",
    "        for q in range(p, -1, -1):\n",
    "            if p % 2 == 0:\n",
    "                continue\n",
    "            x = dim - 1 - p + q\n",
    "            y = q\n",
    "            cnt_back[x-1] += 1\n",
    "            theta = thetas[x-1, cnt_back[x-1]]\n",
    "            phi = phis[x-1, cnt_back[x-1]]\n",
    "            eta1 = mat[x-1, x-1]\n",
    "            eta2 = mat[x, x]\n",
    "            if block == 'bs':\n",
    "                phi_new = angle_diff(eta2, -eta1, offset=0)\n",
    "                mat[x-1, x-1] = eta1 * np.exp(-1j * (phi+phi_new))\n",
    "            elif block == 'mzi':\n",
    "                phi_new = angle_diff(eta2, eta1, offset=0)\n",
    "                mat[x-1, x-1] = -eta1 * np.exp(-1j * (phi+phi_new))\n",
    "                mat[x, x] = -eta2\n",
    "            phis[x-1, cnt_back[x-1]] = phi_new\n",
    "    for i in range(dim):\n",
    "        alphas[i] = np.angle(mat[i, i])\n",
    "    return phis, thetas, alphas\n",
    "\n",
    "\n",
    "def reconstruct_clements(phis, thetas, alphas, block='bs', Lp_dB=0, Lc_dB=0):\n",
    "    assert len(phis.squeeze().shape) == 2\n",
    "    assert len(thetas.squeeze().shape) == 2\n",
    "    assert len(alphas.squeeze().shape) == 1\n",
    "    assert phis.squeeze().shape == thetas.squeeze().shape\n",
    "    assert isinstance(block, str) and block.strip().lower() in ['bs', 'mzi']\n",
    "    \n",
    "    if block == 'bs':\n",
    "        U2block = U2BS\n",
    "    elif block == 'mzi':\n",
    "        U2block = U2MZI\n",
    "    \n",
    "    row, col = thetas.squeeze().shape\n",
    "    dim = row + 1\n",
    "    num = int(dim * (dim - 1) / 2) \n",
    "    assert alphas.squeeze().shape[0] == dim\n",
    "    \n",
    "    Lp = 10 ** (Lp_dB / 10)\n",
    "    Lc = 10 ** (Lc_dB / 10)\n",
    "    \n",
    "    sft = np.diag(np.exp(1j * alphas))\n",
    "    mat = np.eye(dim)\n",
    "    for p in range(col):\n",
    "        for q in range(0, row, 2):\n",
    "            mat = U2block(dim, q, q+1, phis[q,p], thetas[q,p], Lp=Lp, Lc=Lc) @ mat\n",
    "        if p >= col - 1 and dim % 2 == 1:\n",
    "            continue\n",
    "        for q in range(1, row, 2):\n",
    "            mat = U2block(dim, q, q+1, phis[q,p], thetas[q,p], Lp=Lp, Lc=Lc) @ mat\n",
    "    mat = sft @ mat\n",
    "    return mat"
   ]
  },
  {
   "cell_type": "markdown",
   "id": "4488994c",
   "metadata": {},
   "source": [
    "### Unit Test"
   ]
  },
  {
   "cell_type": "code",
   "execution_count": null,
   "id": "371d88cf",
   "metadata": {
    "ExecuteTime": {
     "end_time": "2021-09-15T12:07:42.877328Z",
     "start_time": "2021-09-15T12:07:41.366100Z"
    }
   },
   "outputs": [],
   "source": [
    "# Parameter To Test\n",
    "BOUND = 100\n",
    "MAT_ROW = 40\n",
    "MAT_COL = 50\n",
    "print('==== Unit Test ====')\n",
    "\n",
    "# Singular Value Decomposition\n",
    "mat = np.random.randint(-np.abs(BOUND), np.abs(BOUND), (MAT_ROW, MAT_COL))\n",
    "[u, s, v] = np.linalg.svd(mat, full_matrices=True)\n",
    "\n",
    "# Recovery from SVD\n",
    "print(f'Recovery from SVD:\\t {np.allclose(mat, u[:, :MAT_COL] @ np.diag(s) @ v[:MAT_ROW, :])}')\n",
    "\n",
    "# Reck BS\n",
    "[p, t, a] = decompose_reck(u, block='bs')\n",
    "reck_test = reconstruct_reck(p, t, a, block='bs')\n",
    "print(f'Reck[BS] Test:\\t\\t {np.allclose(reck_test, u)}')\n",
    "\n",
    "# Reck MZI\n",
    "[p, t, a] = decompose_reck(u, block='mzi')\n",
    "reck_test = reconstruct_reck(p, t, a, block='mzi')\n",
    "print(f'Reck[MZI] Test:\\t\\t {np.allclose(reck_test, u)}')\n",
    "\n",
    "# Clements BS\n",
    "[p, t, a] = decompose_clements(u, block='bs')\n",
    "clements_test = reconstruct_clements(p, t, a, block='bs')\n",
    "print(f'Clements[BS] Test:\\t {np.allclose(clements_test, u)}')\n",
    "\n",
    "# Clements MZI\n",
    "[p, t, a] = decompose_clements(u, block='mzi')\n",
    "clements_test = reconstruct_clements(p, t, a, block='mzi')\n",
    "print(f'Clements[MZI] Test:\\t {np.allclose(clements_test, u)}')"
   ]
  },
  {
   "cell_type": "markdown",
   "id": "df1019e8",
   "metadata": {},
   "source": [
    "# Photonic Neural Networks"
   ]
  },
  {
   "cell_type": "markdown",
   "id": "e8a27a96",
   "metadata": {},
   "source": [
    "## Lossy and Crosstalk-aware Unitary Blocks"
   ]
  },
  {
   "cell_type": "markdown",
   "id": "bc8534e9",
   "metadata": {},
   "source": [
    "### Symbolic-enabled Unitary Blocks in consideration of Loss and Crosstalk"
   ]
  },
  {
   "cell_type": "code",
   "execution_count": null,
   "id": "e8148eed",
   "metadata": {
    "ExecuteTime": {
     "end_time": "2021-09-15T12:07:46.225962Z",
     "start_time": "2021-09-15T12:07:46.181523Z"
    }
   },
   "outputs": [],
   "source": [
    "def UB2BS(dim, m, n, phi, theta, E_in, P_x, use_sym=False, Lp=1, Lc=1, K1=0, K2=0):\n",
    "    assert m < n < dim\n",
    "    \n",
    "    if use_sym:\n",
    "        E_signal = sp.eye(2)\n",
    "        E_signal[0, 0] = sp.sqrt(Lp) * sp.exp(sp.I * phi) * sp.cos(theta)\n",
    "        E_signal[0, 1] = sp.sqrt(Lc) * sp.I * sp.sin(theta)\n",
    "        E_signal[1, 0] = sp.sqrt(Lc) * sp.I * sp.exp(sp.I * phi) * sp.sin(theta)\n",
    "        E_signal[1, 1] = sp.sqrt(Lp) * sp.cos(theta)\n",
    "        E_port = E_signal @ E_in.extract([m, n], [0])\n",
    "        E_out = E_in.copy()\n",
    "        E_out[m] = E_port[0]\n",
    "        E_out[n] = E_port[1]\n",
    "        \n",
    "        P_crosstalk = sp.eye(2)\n",
    "        P_crosstalk[0, 0] = K1 * (sp.sin(theta) ** 2)\n",
    "        P_crosstalk[0, 1] = K2 * (sp.cos(theta) ** 2)\n",
    "        P_crosstalk[1, 0] = K2 * (sp.cos(theta) ** 2)\n",
    "        P_crosstalk[1, 1] = K1 * (sp.sin(theta) ** 2)\n",
    "        P_port = P_crosstalk @ (sp.Abs(E_in.extract([m, n], [0])).applyfunc(lambda x: x ** 2) + P_x.extract([m, n], [0]))\n",
    "        P_port += (sp.Abs(E_signal).applyfunc(lambda x: x ** 2)) @ P_x.extract([m, n], [0])\n",
    "        P_out = P_x.copy()\n",
    "        P_out[m] = P_port[0]\n",
    "        P_out[n] = P_port[1]\n",
    "        \n",
    "    else:\n",
    "        assert 0 <= Lp <= 1 and 0 <= Lc <= 1\n",
    "        assert 0 <= K1 <= 1 and 0 <= K2 <= 1\n",
    "        assert np.ndim(E_in.squeeze()) == 1 and np.ndim(P_x.squeeze()) == 1\n",
    "        assert E_in.squeeze().shape[0] == dim and P_x.squeeze().shape[0] == dim\n",
    "        \n",
    "        E_signal = np.eye(2, dtype=np.complex128)\n",
    "        E_signal[0, 0] = np.sqrt(Lp) * np.exp(1j * phi) * np.cos(theta)\n",
    "        E_signal[0, 1] = np.sqrt(Lc) * 1j * np.sin(theta)\n",
    "        E_signal[1, 0] = np.sqrt(Lc) * 1j * np.exp(1j * phi) * np.sin(theta)\n",
    "        E_signal[1, 1] = np.sqrt(Lp) * np.cos(theta)\n",
    "        E_port = E_signal @ E_in.squeeze()[np.ix_([m, n])]\n",
    "        E_out = E_in.squeeze().copy()\n",
    "        E_out[m] = E_port[0]\n",
    "        E_out[n] = E_port[1]\n",
    "        E_out = E_out.reshape(E_in.shape)\n",
    "        \n",
    "        P_crosstalk = np.eye(2)\n",
    "        P_crosstalk[0, 0] = K1 * (np.sin(theta) ** 2)\n",
    "        P_crosstalk[0, 1] = K2 * (np.cos(theta) ** 2)\n",
    "        P_crosstalk[1, 0] = K2 * (np.cos(theta) ** 2)\n",
    "        P_crosstalk[1, 1] = K1 * (np.sin(theta) ** 2)\n",
    "        P_port = P_crosstalk @ (np.square(np.abs(E_in.squeeze()[np.ix_([m,n])])) + P_x.squeeze()[np.ix_([m,n])])\n",
    "        P_out = P_x.squeeze().copy()\n",
    "        P_out[m] = P_port[0]\n",
    "        P_out[n] = P_port[1]\n",
    "        P_out = P_out.reshape(P_x.shape)\n",
    "        \n",
    "    return E_out, P_out\n",
    "\n",
    "\n",
    "def UB2MZI(dim, m, n, phi, theta, E_in, P_x, use_sym=False, Lp=1, Lc=1, K1=0, K2=0):\n",
    "    assert m < n < dim\n",
    "\n",
    "    if use_sym:\n",
    "        E_signal = sp.eye(2)\n",
    "        E_signal[0, 0] = sp.sqrt(Lp) * sp.I * sp.exp(sp.I * phi) * sp.sin(theta)\n",
    "        E_signal[0, 1] = sp.sqrt(Lc) * sp.I * sp.cos(theta)\n",
    "        E_signal[1, 0] = sp.sqrt(Lc) * sp.I * sp.exp(sp.I * phi) * sp.cos(theta)\n",
    "        E_signal[1, 1] = -sp.sqrt(Lp) * sp.I * sp.sin(theta)\n",
    "        E_port = E_signal @ E_in.extract([m, n], [0])\n",
    "        E_out = E_in.copy()\n",
    "        E_out[m] = E_port[0]\n",
    "        E_out[n] = E_port[1]\n",
    "        \n",
    "        P_crosstalk = sp.eye(2)\n",
    "        P_crosstalk[0, 0] = K1 * (sp.cos(theta) ** 2)\n",
    "        P_crosstalk[0, 1] = K2 * (sp.sin(theta) ** 2)\n",
    "        P_crosstalk[1, 0] = K2 * (sp.sin(theta) ** 2)\n",
    "        P_crosstalk[1, 1] = K1 * (sp.cos(theta) ** 2)\n",
    "        P_port = P_crosstalk @ (sp.Abs(E_in.extract([m, n], [0])).applyfunc(lambda x: x ** 2) + P_x.extract([m, n], [0]))\n",
    "        P_port += (sp.Abs(E_signal).applyfunc(lambda x: x ** 2)) @ P_x.extract([m, n], [0])\n",
    "        P_out = P_x.copy()\n",
    "        P_out[m] = P_port[0]\n",
    "        P_out[n] = P_port[1]\n",
    "        \n",
    "    else:\n",
    "        assert 0 <= Lp <= 1 and 0 <= Lc <= 1\n",
    "        assert 0 <= K1 <= 1 and 0 <= K2 <= 1\n",
    "        assert np.ndim(E_in.squeeze()) == 1 and np.ndim(P_x.squeeze()) == 1\n",
    "        assert E_in.squeeze().shape[0] == dim and P_x.squeeze().shape[0] == dim\n",
    "        \n",
    "        E_signal = np.eye(2, dtype=np.complex128)\n",
    "        E_signal[0, 0] = np.sqrt(Lp) * 1j *np.exp(1j * phi) * np.sin(theta)\n",
    "        E_signal[0, 1] = np.sqrt(Lc) * 1j * np.cos(theta)\n",
    "        E_signal[1, 0] = np.sqrt(Lc) * 1j * np.exp(1j * phi) * np.cos(theta)\n",
    "        E_signal[1, 1] = -np.sqrt(Lp) * 1j * np.sin(theta)\n",
    "        E_port = E_signal @ E_in.squeeze()[np.ix_([m, n])]\n",
    "        E_out = E_in.squeeze().copy()\n",
    "        E_out[m] = E_port[0]\n",
    "        E_out[n] = E_port[1]\n",
    "        E_out = E_out.reshape(E_in.shape)\n",
    "        \n",
    "        P_crosstalk = np.eye(2)\n",
    "        P_crosstalk[0, 0] = K1 * (np.cos(theta) ** 2)\n",
    "        P_crosstalk[0, 1] = K2 * (np.sin(theta) ** 2)\n",
    "        P_crosstalk[1, 0] = K2 * (np.sin(theta) ** 2)\n",
    "        P_crosstalk[1, 1] = K1 * (np.cos(theta) ** 2)\n",
    "        P_port = P_crosstalk @ (np.square(np.abs(E_in.squeeze()[np.ix_([m,n])])) + P_x.squeeze()[np.ix_([m,n])])\n",
    "        P_port += np.square(np.abs(E_signal)) @ P_x.squeeze()[np.ix_([m,n])]\n",
    "        P_out = P_x.squeeze().copy()\n",
    "        P_out[m] = P_port[0]\n",
    "        P_out[n] = P_port[1]\n",
    "        P_out = P_out.reshape(P_x.shape)\n",
    "        \n",
    "    return E_out, P_out"
   ]
  },
  {
   "cell_type": "markdown",
   "id": "eb50d643",
   "metadata": {},
   "source": [
    "### Override Reconstruction Functions"
   ]
  },
  {
   "cell_type": "code",
   "execution_count": null,
   "id": "88b726bb",
   "metadata": {
    "ExecuteTime": {
     "end_time": "2021-09-15T12:07:47.507053Z",
     "start_time": "2021-09-15T12:07:47.488163Z"
    }
   },
   "outputs": [],
   "source": [
    "def reconstruct_reck_pnn(phis, thetas, alphas, E_in, P_x, block='bs', Lp_dB=0, Lc_dB=0, K1_dB=-10000, K2_dB=-10000):\n",
    "    assert len(phis.squeeze().shape) == 1\n",
    "    assert len(thetas.squeeze().shape) == 1\n",
    "    assert len(alphas.squeeze().shape) == 1\n",
    "    assert phis.squeeze().shape[0] == thetas.squeeze().shape[0]\n",
    "    assert isinstance(block, str) and block.strip().lower() in ['bs', 'mzi']\n",
    "    if block == 'bs':\n",
    "        U2block = UB2BS\n",
    "    elif block == 'mzi':\n",
    "        U2block = UB2MZI\n",
    "    \n",
    "    num = thetas.squeeze().shape[0]\n",
    "    dim = int((1 + np.sqrt(1 + 8 * num))/ 2)\n",
    "    assert alphas.squeeze().shape[0] == dim\n",
    "    \n",
    "    Lp = 10 ** (Lp_dB / 10)\n",
    "    Lc = 10 ** (Lc_dB / 10)\n",
    "    K1 = 10 ** (K1_dB / 10)\n",
    "    K2 = 10 ** (K2_dB / 10)\n",
    "    \n",
    "    E_signal = E_in.copy()\n",
    "    P_crosstalk = P_x.copy()\n",
    "    \n",
    "    sft = np.diag(np.exp(1j * alphas))\n",
    "    index = 0\n",
    "    for p in range(dim-1, 0, -1):\n",
    "        for q in range(p-1, -1, -1):\n",
    "            E_signal, P_crosstalk = U2block(dim, q, p, phis[index], thetas[index], E_signal, P_crosstalk, Lp=Lp, Lc=Lc, K1=K1, K2=K2)\n",
    "            index += 1\n",
    "            \n",
    "    E_signal = sft @ E_signal\n",
    "    return E_signal, P_crosstalk\n",
    "\n",
    "\n",
    "def reconstruct_clements_pnn(phis, thetas, alphas, E_in, P_x, block='bs', Lp_dB=0, Lc_dB=0, K1_dB=-10000, K2_dB=-10000):\n",
    "    assert len(phis.squeeze().shape) == 2\n",
    "    assert len(thetas.squeeze().shape) == 2\n",
    "    assert len(alphas.squeeze().shape) == 1\n",
    "    assert phis.squeeze().shape == thetas.squeeze().shape\n",
    "    assert isinstance(block, str) and block.strip().lower() in ['bs', 'mzi']\n",
    "    \n",
    "    if block == 'bs':\n",
    "        U2block = UB2BS\n",
    "    elif block == 'mzi':\n",
    "        U2block = UB2MZI\n",
    "    \n",
    "    row, col = thetas.squeeze().shape\n",
    "    dim = row + 1\n",
    "    num = int(dim * (dim - 1) / 2) \n",
    "    assert alphas.squeeze().shape[0] == dim\n",
    "    \n",
    "    Lp = 10 ** (Lp_dB / 10)\n",
    "    Lc = 10 ** (Lc_dB / 10)\n",
    "    K1 = 10 ** (K1_dB / 10)\n",
    "    K2 = 10 ** (K2_dB / 10)\n",
    "    \n",
    "    E_signal = E_in.copy()\n",
    "    P_crosstalk = P_x.copy()\n",
    "    \n",
    "    sft = np.diag(np.exp(1j * alphas))\n",
    "    for p in range(col):\n",
    "        for q in range(0, row, 2):\n",
    "            E_signal, P_crosstalk = U2block(dim, q, q+1, phis[q,p], thetas[q,p], E_signal, P_crosstalk, Lp=Lp, Lc=Lc, K1=K1, K2=K2)\n",
    "        if p >= col - 1 and dim % 2 == 1:\n",
    "            continue\n",
    "        for q in range(1, row, 2):\n",
    "            E_signal, P_crosstalk = U2block(dim, q, q+1, phis[q,p], thetas[q,p], E_signal, P_crosstalk, Lp=Lp, Lc=Lc, K1=K1, K2=K2)\n",
    "    E_signal = sft @ E_signal\n",
    "    return E_signal, P_crosstalk"
   ]
  },
  {
   "cell_type": "markdown",
   "id": "88190209",
   "metadata": {},
   "source": [
    "### Unit Test for Lossless Unitary Blocks"
   ]
  },
  {
   "cell_type": "code",
   "execution_count": null,
   "id": "0cd50839",
   "metadata": {
    "ExecuteTime": {
     "end_time": "2021-09-15T12:08:00.408112Z",
     "start_time": "2021-09-15T12:07:48.760943Z"
    }
   },
   "outputs": [],
   "source": [
    "# Obtain Weight Parameters\n",
    "pnn_mat = model.classifier[0].weight.detach().numpy().T\n",
    "[u, s, v] = np.linalg.svd(pnn_mat, full_matrices=True)\n",
    "print('==== Unit Test ====')\n",
    "\n",
    "# Ideal Lossless Unitary Blocks (Reck-BS)\n",
    "[p, t, a] = decompose_reck(u, block='bs')\n",
    "[E_signal, P_crosstalk] = reconstruct_reck_pnn(p, t, a, \n",
    "                     np.ones((120, 1), dtype=np.complex128), \n",
    "                     np.zeros((120, 1), dtype=np.complex128),\n",
    "                     block='bs')\n",
    "print(f'Reck[BS] Test:\\t\\t{np.allclose(u @ np.ones((120, 1), dtype=np.complex128), E_signal)}')\n",
    "\n",
    "# Ideal Lossless Unitary Blocks (Reck-MZI)\n",
    "[p, t, a] = decompose_reck(u, block='mzi')\n",
    "[E_signal, P_crosstalk] = reconstruct_reck_pnn(p, t, a, \n",
    "                     np.ones((120, 1), dtype=np.complex128), \n",
    "                     np.zeros((120, 1), dtype=np.complex128),\n",
    "                     block='mzi')\n",
    "print(f'Reck[MZI] Test:\\t\\t{np.allclose(u @ np.ones((120, 1), dtype=np.complex128), E_signal)}')\n",
    "\n",
    "# Ideal Lossless Unitary Blocks (Clements-BS)\n",
    "[p, t, a] = decompose_clements(u, block='bs')\n",
    "[E_signal, P_crosstalk] = reconstruct_clements_pnn(p, t, a, \n",
    "                     np.ones((120, 1), dtype=np.complex128), \n",
    "                     np.zeros((120, 1), dtype=np.complex128),\n",
    "                     block='bs')\n",
    "print(f'Clements[BS] Test:\\t{np.allclose(u @ np.ones((120, 1), dtype=np.complex128), E_signal)}')\n",
    "\n",
    "# Ideal Lossless Unitary Blocks (Clements-MZI)\n",
    "[p, t, a] = decompose_clements(u, block='mzi')\n",
    "[E_signal, P_crosstalk] = reconstruct_clements_pnn(p, t, a, \n",
    "                     np.ones((120, 1), dtype=np.complex128), \n",
    "                     np.zeros((120, 1), dtype=np.complex128),\n",
    "                     block='mzi')\n",
    "print(f'Clements[MZI] Test:\\t{np.allclose(u @ np.ones((120, 1), dtype=np.complex128), E_signal)}')"
   ]
  },
  {
   "cell_type": "markdown",
   "id": "b25cceb1",
   "metadata": {},
   "source": [
    "### Unit Test for Symbolic Derivation"
   ]
  },
  {
   "cell_type": "code",
   "execution_count": null,
   "id": "fb7e04be",
   "metadata": {
    "ExecuteTime": {
     "end_time": "2021-09-15T12:08:03.311895Z",
     "start_time": "2021-09-15T12:08:02.991226Z"
    }
   },
   "outputs": [],
   "source": [
    "from IPython.display import display\n",
    "\n",
    "t = sp.Symbol('theta')\n",
    "p = sp.Symbol('phi')\n",
    "\n",
    "k = sp.Symbol('K')\n",
    "Lc = sp.Symbol('L_c')\n",
    "Lp = sp.Symbol('L_p')\n",
    "\n",
    "E1 = sp.Symbol('E_1')\n",
    "E2 = sp.Symbol('E_2')\n",
    "E3 = sp.Symbol('E_3')\n",
    "\n",
    "Px1 = sp.Symbol('P_x1')\n",
    "Px2 = sp.Symbol('P_x2')\n",
    "Px3 = sp.Symbol('P_x3')\n",
    "\n",
    "Ei = sp.Matrix([E1, E2, E3])\n",
    "Pi = sp.Matrix([Px1, Px2, Px3])\n",
    "\n",
    "[sym_signal, sym_crosstalk] = UB2MZI(3, 0, 1, p, t, Ei, Pi, use_sym=True, Lp=Lp, Lc=Lc, K1=k, K2=k)\n",
    "\n",
    "print('\\nLoss = ')\n",
    "display(sym_signal)\n",
    "\n",
    "print('\\nCrosstalk = ')\n",
    "display(sym_crosstalk)"
   ]
  },
  {
   "cell_type": "markdown",
   "id": "04c97313",
   "metadata": {},
   "source": [
    "## Theoretical Analysis"
   ]
  },
  {
   "cell_type": "markdown",
   "id": "211b6455",
   "metadata": {},
   "source": [
    "### Worst-case Mode-wise SNR"
   ]
  },
  {
   "cell_type": "code",
   "execution_count": null,
   "id": "73ad0354",
   "metadata": {
    "ExecuteTime": {
     "end_time": "2021-09-17T20:27:09.031938Z",
     "start_time": "2021-09-17T20:22:16.532428Z"
    }
   },
   "outputs": [],
   "source": [
    "# System Configurations and Parameters\n",
    "NUM_MODE = 101\n",
    "Lp_dB = -0.01\n",
    "Lc_dB = -0.1\n",
    "ER_dB = [20, 25, 30, 35, 40]\n",
    "\n",
    "# Buffers to store the data for drawings\n",
    "signals = np.zeros((NUM_MODE, 1))\n",
    "noises = np.zeros((NUM_MODE, 1))\n",
    "\n",
    "# Setup for Matplotlib\n",
    "plt.rcParams[\"font.family\"] = \"Times New Roman\"\n",
    "plt.rcParams[\"font.weight\"] = \"normal\"\n",
    "plt.rcParams[\"font.size\"] = 12\n",
    "plt.figure(dpi=600)\n",
    "x = range(3, NUM_MODE)\n",
    "\n",
    "# Sweep Parameters\n",
    "for er in ER_dB:\n",
    "    K_dB = -er\n",
    "    for i in range(3, NUM_MODE):\n",
    "        mat = np.fliplr(np.eye(i))\n",
    "        [u, s, v] = np.linalg.svd(mat, full_matrices=True)\n",
    "        [p, t, a] = decompose_clements(u, block='mzi')\n",
    "        [E_signal, P_crosstalk] = reconstruct_clements_pnn(p, t, a, \n",
    "                         np.ones((i, 1), dtype=np.complex128), \n",
    "                         np.zeros((i, 1), dtype=np.complex128),\n",
    "                         block='mzi', Lp_dB=Lp_dB, Lc_dB=Lc_dB, K1_dB=K_dB, K2_dB=K_dB)\n",
    "        signals[i] = np.abs(np.sum(np.square(E_signal).squeeze()))\n",
    "        noises[i] = np.abs(np.sum(P_crosstalk.squeeze()))\n",
    "        \n",
    "    y1 = signals[3:NUM_MODE]\n",
    "    y2 = noises[3:NUM_MODE]\n",
    "    snr = y1 / y2\n",
    "    snr_dB = 10 * np.log10(snr)\n",
    "    plt.plot(x, snr_dB, '^', markersize=2)\n",
    "    \n",
    "# Annotate Setup\n",
    "baseline = np.ones_like(x) * 10\n",
    "plt.plot(x, baseline, '--')\n",
    "    \n",
    "plt.xlabel('Number of modes', fontsize=14)\n",
    "plt.ylabel('Worst-case Mode-wise SNR (dB)', fontsize=14)\n",
    "\n",
    "notes = [f\"K = -{e}dB\" for e in ER_dB]\n",
    "notes.append('Min-Required')\n",
    "plt.legend(notes, ncol=2, markerscale=2.0)\n",
    "plt.show()"
   ]
  },
  {
   "cell_type": "markdown",
   "id": "cf3a47cc",
   "metadata": {},
   "source": [
    "### Comparison with Fidelity"
   ]
  },
  {
   "cell_type": "code",
   "execution_count": null,
   "id": "b255f4af",
   "metadata": {
    "ExecuteTime": {
     "end_time": "2021-08-20T08:49:18.036306Z",
     "start_time": "2021-08-20T08:47:31.551039Z"
    }
   },
   "outputs": [],
   "source": [
    "# System Configurations and Parameters\n",
    "NUM_MODE = 101\n",
    "Lp_dB = -0.01\n",
    "Lc_dB = -0.1\n",
    "COUNT = 10 #Setting 100 will Need 1.89 Hours to run\n",
    "\n",
    "# Buffers to store the data for drawings\n",
    "fidelity = np.zeros((NUM_MODE, 1))\n",
    "\n",
    "# Setup for Matplotlib\n",
    "plt.rcParams[\"font.family\"] = \"Times New Roman\"\n",
    "plt.rcParams[\"font.weight\"] = \"normal\"\n",
    "plt.rcParams[\"font.size\"] = 12\n",
    "plt.figure()\n",
    "x = range(3, NUM_MODE)\n",
    "\n",
    "# Sweep Parameters [Reck]\n",
    "for i in range(3, NUM_MODE):\n",
    "    statistic = 0.0\n",
    "    for _ in range(COUNT):\n",
    "        mat = np.random.randn(i, i)\n",
    "        [u, s, v] = np.linalg.svd(mat, full_matrices=True)\n",
    "        [p, t, a] = decompose_reck(u, block='mzi')\n",
    "        Ue = reconstruct_reck(p, t, a, block='mzi', Lp_dB=Lp_dB, Lc_dB=Lc_dB)\n",
    "        statistic += np.abs(np.trace(u.conj().T @ Ue) / np.sqrt(i * np.trace(Ue.conj().T @ Ue))) ** 2\n",
    "    fidelity[i] = statistic / COUNT\n",
    "\n",
    "# Annotate Setup\n",
    "y = fidelity[3:NUM_MODE]\n",
    "plt.plot(x, y, 's', markersize=2)\n",
    "\n",
    "# Sweep Parameters [Clements]\n",
    "for i in range(3, NUM_MODE):\n",
    "    statistic = 0.0\n",
    "    for _ in range(COUNT):\n",
    "        mat = np.random.randn(i, i)\n",
    "        [u, s, v] = np.linalg.svd(mat, full_matrices=True)\n",
    "        [p, t, a] = decompose_clements(u, block='mzi')\n",
    "        Ue = reconstruct_clements(p, t, a, block='mzi', Lp_dB=Lp_dB, Lc_dB=Lc_dB)\n",
    "        statistic += np.abs(np.trace(u.conj().T @ Ue) / np.sqrt(i * np.trace(Ue.conj().T @ Ue))) ** 2\n",
    "    fidelity[i] = statistic / COUNT\n",
    "\n",
    "# Annotate Setup\n",
    "y = fidelity[3:NUM_MODE]\n",
    "plt.plot(x, y, '^', markersize=2)\n",
    "\n",
    "plt.xlabel('Number of modes', fontsize=14)\n",
    "plt.ylabel('Fidelity', fontsize=14)\n",
    "plt.legend(['Reck', 'Clements'])\n",
    "\n",
    "plt.show()"
   ]
  },
  {
   "cell_type": "markdown",
   "id": "1fa8e955",
   "metadata": {},
   "source": [
    "## Experimental Verification"
   ]
  },
  {
   "cell_type": "markdown",
   "id": "2f3312b9",
   "metadata": {},
   "source": [
    "### Photo-Detectors & Attenuators & Nonlinear-Activations"
   ]
  },
  {
   "cell_type": "code",
   "execution_count": null,
   "id": "e5d49fbd",
   "metadata": {
    "ExecuteTime": {
     "end_time": "2021-09-15T12:08:40.139612Z",
     "start_time": "2021-09-15T12:08:40.131138Z"
    }
   },
   "outputs": [],
   "source": [
    "def photo_detector(E_signal, P_crosstalk, \n",
    "                   dynamic_ranges=[-16, 16], precision_bitdepth=16):\n",
    "    \n",
    "    nums = 2**precision_bitdepth\n",
    "    bins = np.linspace(*dynamic_ranges, num=nums)\n",
    "    amps = E_signal + np.sqrt(P_crosstalk) * np.exp(1j * np.random.random() * 2 * np.pi)\n",
    "    inds = np.digitize(np.real(amps), bins)\n",
    "    inds[inds>=nums] = nums - 1\n",
    "    return bins[inds]\n",
    "    \n",
    "\n",
    "def diagonal_attenuator(E_signal, diagonal_factor, num_output=None):\n",
    "    if E_signal.size >= diagonal_factor.size:\n",
    "        vec = E_signal.squeeze()[:diagonal_factor.size] * diagonal_factor\n",
    "    else:\n",
    "        vec = E_signal.squeeze() * diagonal_factor[:E_signal.size]\n",
    "        \n",
    "    vec = vec.astype(np.complex128)\n",
    "    \n",
    "    if num_output is not None:\n",
    "        if vec.size >= num_output:\n",
    "            return vec[:num_output][:, np.newaxis]\n",
    "        else:\n",
    "            padding = np.zeros(num_output, dtype=np.complex128)\n",
    "            padding[:vec.size] = vec\n",
    "            return padding[:, np.newaxis]\n",
    "    else:\n",
    "        return vec[:, np.newaxis]\n",
    "\n",
    "\n",
    "def nonlinear_tanh(x):\n",
    "    return np.tanh(x).astype(np.complex128)\n",
    "\n",
    "\n",
    "def softmax(x):\n",
    "    return np.exp(x) / np.sum(np.exp(x))"
   ]
  },
  {
   "cell_type": "markdown",
   "id": "f9e6d20f",
   "metadata": {},
   "source": [
    "### Weight Extraction from LeNet-5 "
   ]
  },
  {
   "cell_type": "code",
   "execution_count": null,
   "id": "dd49ffd7",
   "metadata": {
    "ExecuteTime": {
     "end_time": "2021-09-15T12:08:49.448222Z",
     "start_time": "2021-09-15T12:08:45.127608Z"
    }
   },
   "outputs": [],
   "source": [
    "pnn_mat1 = model.classifier[0].weight.detach().numpy().T\n",
    "[u1, s1, v1] = np.linalg.svd(pnn_mat1, full_matrices=True)\n",
    "[p1u, t1u, a1u] = decompose_clements(u1.conj().T, block='mzi')\n",
    "[p1v, t1v, a1v] = decompose_clements(v1.conj().T, block='mzi')\n",
    "\n",
    "pnn_mat2 = model.classifier[2].weight.detach().numpy().T\n",
    "[u2, s2, v2] = np.linalg.svd(pnn_mat2, full_matrices=True)\n",
    "[p2u, t2u, a2u] = decompose_clements(u2.conj().T, block='mzi')\n",
    "[p2v, t2v, a2v] = decompose_clements(v2.conj().T, block='mzi')"
   ]
  },
  {
   "cell_type": "markdown",
   "id": "1b088962",
   "metadata": {},
   "source": [
    "### One Iteration of Inference"
   ]
  },
  {
   "cell_type": "code",
   "execution_count": null,
   "id": "e253249f",
   "metadata": {
    "ExecuteTime": {
     "end_time": "2021-08-21T13:11:27.661192Z",
     "start_time": "2021-08-21T13:11:26.401919Z"
    }
   },
   "outputs": [],
   "source": [
    "# Parameters\n",
    "Lp_dB = -0.01\n",
    "Lc_dB = -0.1\n",
    "K1_dB = -25\n",
    "K2_dB = -25\n",
    "\n",
    "X_samples = torch.ones(1,1,32,32)\n",
    "Z_features = model.feature_extractor(X_samples).detach().numpy()\n",
    "pnn_inputs = Z_features.squeeze()[:,np.newaxis].astype(np.complex128)\n",
    "\n",
    "# Mat 1 - U\n",
    "[E_sig, P_xtalk] = reconstruct_clements_pnn(p1u, t1u, a1u, \n",
    "                         pnn_inputs,\n",
    "                         np.zeros_like(pnn_inputs, dtype=np.complex128),\n",
    "                         block='mzi',\n",
    "                         Lp_dB=Lp_dB, Lc_dB=Lc_dB, K1_dB=K1_dB, K2_dB=K2_dB)\n",
    "E_sig = photo_detector(E_sig, P_xtalk)\n",
    "\n",
    "# Mat 1 - S\n",
    "E_sig = diagonal_attenuator(E_sig, s1, num_output=v1.shape[0])\n",
    "\n",
    "# Mat 1 - V\n",
    "[E_sig, P_xtalk] = reconstruct_clements_pnn(p1v, t1v, a1v, \n",
    "                         E_sig,\n",
    "                         np.zeros_like(E_sig, dtype=np.complex128),\n",
    "                         block='mzi',\n",
    "                         Lp_dB=Lp_dB, Lc_dB=Lc_dB, K1_dB=K1_dB, K2_dB=K2_dB)\n",
    "E_sig = photo_detector(E_sig, P_xtalk)\n",
    "\n",
    "# Activation - Tanh\n",
    "E_sig = nonlinear_tanh(E_sig)\n",
    "\n",
    "# Mat 2 - U\n",
    "[E_sig, P_xtalk] = reconstruct_clements_pnn(p2u, t2u, a2u, \n",
    "                         E_sig,\n",
    "                         np.zeros_like(E_sig, dtype=np.complex128),\n",
    "                         block='mzi',\n",
    "                         Lp_dB=Lp_dB, Lc_dB=Lc_dB, K1_dB=K1_dB, K2_dB=K2_dB)\n",
    "E_sig = photo_detector(E_sig, P_xtalk)\n",
    "\n",
    "# Mat 2 - S\n",
    "E_sig = diagonal_attenuator(E_sig, s2, num_output=v2.shape[0])\n",
    "\n",
    "# Mat 2 - V\n",
    "[E_sig, P_xtalk] = reconstruct_clements_pnn(p2v, t2v, a2v, \n",
    "                         E_sig,\n",
    "                         np.zeros_like(E_sig, dtype=np.complex128),\n",
    "                         block='mzi',\n",
    "                         Lp_dB=Lp_dB, Lc_dB=Lc_dB, K1_dB=K1_dB, K2_dB=K2_dB)\n",
    "E_sig = photo_detector(E_sig, P_xtalk)\n",
    "\n",
    "# Softmax (prob: probability, pred: prediction)\n",
    "prob = softmax(E_sig.astype(np.double))\n",
    "pred = prob.argmax()"
   ]
  },
  {
   "cell_type": "markdown",
   "id": "94eba27e",
   "metadata": {},
   "source": [
    "### Realization for PNN Class"
   ]
  },
  {
   "cell_type": "code",
   "execution_count": null,
   "id": "b4ed4718",
   "metadata": {
    "ExecuteTime": {
     "end_time": "2021-09-15T12:09:08.966540Z",
     "start_time": "2021-09-15T12:09:08.956627Z"
    }
   },
   "outputs": [],
   "source": [
    "class PNN:\n",
    "    def __init__(self, matrix, Lp_dB=0, Lc_dB=0, K1_dB=-10000, K2_dB=-10000):\n",
    "        [self.u, self.s, self.v] = np.linalg.svd(matrix, full_matrices=True)\n",
    "        [self.p_u, self.t_u, self.a_u] = decompose_clements(self.u.conj().T, block='mzi')\n",
    "        [self.p_v, self.t_v, self.a_v] = decompose_clements(self.v.conj().T, block='mzi')\n",
    "        self.Lp_dB, self.Lc_dB = Lp_dB, Lc_dB\n",
    "        self.K1_dB, self.K2_dB = K1_dB, K2_dB\n",
    "        \n",
    "    def __call__(self, inputs):\n",
    "        pnn_inputs = inputs.squeeze()[:,np.newaxis].astype(np.complex128)\n",
    "        [E_sig, P_xtalk] = reconstruct_clements_pnn(self.p_u, self.t_u, self.a_u, \n",
    "                                 pnn_inputs,\n",
    "                                 np.zeros_like(pnn_inputs, dtype=np.complex128),\n",
    "                                 block='mzi',\n",
    "                                 Lp_dB=self.Lp_dB, Lc_dB=self.Lc_dB, K1_dB=self.K1_dB, K2_dB=self.K2_dB)\n",
    "        E_sig = photo_detector(E_sig, P_xtalk)\n",
    "        \n",
    "        E_sig = diagonal_attenuator(E_sig, self.s, num_output=self.v.shape[0])\n",
    "        P_xtalk = diagonal_attenuator(P_xtalk, self.s, num_output=self.v.shape[0])\n",
    "        \n",
    "        [E_sig, P_xtalk] = reconstruct_clements_pnn(self.p_v, self.t_v, self.a_v,\n",
    "                                 E_sig,\n",
    "                                 P_xtalk,\n",
    "                                 block='mzi',\n",
    "                                 Lp_dB=self.Lp_dB, Lc_dB=self.Lc_dB, K1_dB=self.K1_dB, K2_dB=self.K2_dB)\n",
    "        E_sig = photo_detector(E_sig, P_xtalk)\n",
    "        return E_sig"
   ]
  },
  {
   "cell_type": "markdown",
   "id": "1eb88500",
   "metadata": {},
   "source": [
    "### Unit Test for PNN class"
   ]
  },
  {
   "cell_type": "code",
   "execution_count": null,
   "id": "c797782f",
   "metadata": {
    "ExecuteTime": {
     "end_time": "2021-09-15T12:09:13.395142Z",
     "start_time": "2021-09-15T12:09:13.186367Z"
    }
   },
   "outputs": [],
   "source": [
    "MAT_ROW = 20\n",
    "MAT_COL = 20\n",
    "REL_TOL = 1e-4\n",
    "ABS_TOL = 1e-3\n",
    "\n",
    "mat_test = np.random.rand(MAT_ROW, MAT_COL)\n",
    "inputs = np.random.rand(MAT_ROW, 1)\n",
    "pnn_test = PNN(mat_test)\n",
    "\n",
    "print(f'PNN Test:\\t{np.allclose(pnn_test(inputs), mat_test.T @ inputs, rtol=REL_TOL, atol=ABS_TOL)}\\n')\n",
    "print('[INFO] if OUTPUT is False, it might be caused by the dynamic_ranges of photo_detector.')\n",
    "print(f'\\n* PNN Output = \\n{pnn_test(inputs)}\\n\\n* Reference Output = \\n{mat_test.T @ inputs}\\n')"
   ]
  },
  {
   "cell_type": "markdown",
   "id": "e236cbc0",
   "metadata": {},
   "source": [
    "### Batch Evaluation"
   ]
  },
  {
   "cell_type": "code",
   "execution_count": null,
   "id": "a6c356b0",
   "metadata": {
    "ExecuteTime": {
     "end_time": "2021-08-21T14:22:09.890992Z",
     "start_time": "2021-08-21T14:22:09.883487Z"
    }
   },
   "outputs": [],
   "source": [
    "def pnn_evaluate(data_loader, model, device, pnn1, pnn2):\n",
    "    \n",
    "    model.eval()\n",
    "    cnt = 0\n",
    "    num_total = 0\n",
    "    num_right = 0\n",
    "    \n",
    "    for X, Y_true in data_loader:\n",
    "        cnt += 1\n",
    "        X = X.to(device)\n",
    "        Y_true = Y_true.to(device)\n",
    "        \n",
    "        Z_features = model.feature_extractor(X).detach().numpy()\n",
    "        _, Y_prob = model(X)\n",
    "        Y_pred = Y_prob.argmax(axis=1).detach().numpy()\n",
    "        \n",
    "        for i in range(len(Z_features)):\n",
    "            pnn_inputs = Z_features[i].squeeze()[:,np.newaxis]\n",
    "            Z = pnn1(pnn_inputs)\n",
    "            Z = nonlinear_tanh(Z)\n",
    "            Z = pnn2(Z)\n",
    "            prob = softmax(Z)\n",
    "            pred = prob.argmax()\n",
    "            \n",
    "            # print(f'Y_true = {Y_true[i]}, Y_pred = {Y_pred[i]}, PNN_pred = {pred}')\n",
    "            \n",
    "            if Y_true[i] == pred:\n",
    "                num_right += 1\n",
    "            num_total += 1\n",
    "        \n",
    "        print(f'[INFO] Progress: {cnt} / {len(data_loader)}; Accumulate: Correct: {num_right}, Total: {num_total}')\n",
    "        \n",
    "    return num_right, num_total"
   ]
  },
  {
   "cell_type": "code",
   "execution_count": null,
   "id": "1739a4f4",
   "metadata": {
    "ExecuteTime": {
     "end_time": "2021-08-21T14:23:18.544620Z",
     "start_time": "2021-08-21T14:22:23.679017Z"
    }
   },
   "outputs": [],
   "source": [
    "pnn1 = PNN(pnn_mat1)\n",
    "pnn2 = PNN(pnn_mat2)\n",
    "\n",
    "num_true, num_all = pnn_evaluate(valid_loader, model, DEVICE, pnn1, pnn2)\n",
    "print('[SUMMARY] Test Accuracy:\\t {} / {} = {:.3f}'.format(num_true, num_all, num_true/num_all*100))"
   ]
  },
  {
   "cell_type": "markdown",
   "id": "3f4b3d1f",
   "metadata": {},
   "source": [
    "### Sweep Parameters to Investigate the Impacts of Crosstalk on PNN Inference"
   ]
  },
  {
   "cell_type": "code",
   "execution_count": null,
   "id": "aa6897b6",
   "metadata": {},
   "outputs": [],
   "source": [
    "# Coefficient Setup\n",
    "crosstalk_coefficients = [-40, -35, -30, -25, -20]\n",
    "Lp_dB = -0.01\n",
    "Lc_dB = [-0.1, -0.2, -0.3]\n",
    "\n",
    "test_accuracies = np.zeros((len(Lc_dB), len(crosstalk_coefficients)), dtype=np.double)\n",
    "\n",
    "# Sweep Parameters (Loss-Only)\n",
    "pnn1 = PNN(pnn_mat1, Lp_dB=Lp_dB, Lc_dB=Lc_dB[0])\n",
    "pnn2 = PNN(pnn_mat2, Lp_dB=Lp_dB, Lc_dB=Lc_dB[0])\n",
    "num_true, num_all = pnn_evaluate(valid_loader, model, DEVICE, pnn1, pnn2)\n",
    "acc_lossonly = num_true / num_all * 100.0\n",
    "\n",
    "# Sweep Parameters (Crosstalk-aware)\n",
    "for i, loss_coef in enumerate(Lc_dB):\n",
    "    for j, xtalk_coef in enumerate(crosstalk_coefficients):\n",
    "        pnn1 = PNN(pnn_mat1, Lp_dB=Lp_dB, Lc_dB=loss_coef, K1_dB=xtalk_coef, K2_dB=xtalk_coef)\n",
    "        pnn2 = PNN(pnn_mat2, Lp_dB=Lp_dB, Lc_dB=loss_coef, K1_dB=xtalk_coef, K2_dB=xtalk_coef)\n",
    "        num_true, num_all = pnn_evaluate(valid_loader, model, DEVICE, pnn1, pnn2)\n",
    "        test_accuracies[i, j] = num_true / num_all * 100.0\n",
    "    \n",
    "# Drawing Variable Setup\n",
    "x = crosstalk_coefficients\n",
    "y = test_accuracies\n",
    "y_lossonly = np.ones(len(crosstalk_coefficients)) * acc_lossonly"
   ]
  },
  {
   "cell_type": "code",
   "execution_count": null,
   "id": "1eda7bd9",
   "metadata": {},
   "outputs": [],
   "source": [
    "# Annotate Setup\n",
    "plt.figure(figsize=(6.4, 3))\n",
    "plt.plot(x, y_lossonly, '-p', color='cornflowerblue')\n",
    "plt.plot(x, y[0], '-d', color='indigo')\n",
    "plt.plot(x, y[1], '-d', color='darkorchid')\n",
    "plt.plot(x, y[2], '-d', color='plum')\n",
    "plt.xticks(x)\n",
    "plt.xlabel('Crosstalk Coefficient (dB)')\n",
    "plt.ylabel('Test Accuracy (%)')\n",
    "plt.legend(['Loss Only','Lc = -0.1dB', 'Lc = -0.2dB', 'Lc = -0.3dB'])\n",
    "plt.show()"
   ]
  },
  {
   "cell_type": "markdown",
   "id": "c754f578",
   "metadata": {},
   "source": [
    "# Full DNN-Architecture Evaluation"
   ]
  },
  {
   "cell_type": "code",
   "execution_count": null,
   "id": "a34ed2c8",
   "metadata": {
    "ExecuteTime": {
     "end_time": "2021-09-17T10:36:03.202615Z",
     "start_time": "2021-09-17T10:36:03.190874Z"
    }
   },
   "outputs": [],
   "source": [
    "class PNN:\n",
    "    def __init__(self, matrix, Lp_dB=0, Lc_dB=0, K1_dB=-10000, K2_dB=-10000):\n",
    "        [self.u, self.s, self.v] = np.linalg.svd(matrix, full_matrices=True)\n",
    "        [self.p_u, self.t_u, self.a_u] = decompose_clements(self.u.conj().T, block='mzi')\n",
    "        [self.p_v, self.t_v, self.a_v] = decompose_clements(self.v.conj().T, block='mzi')\n",
    "        self.Lp_dB, self.Lc_dB = Lp_dB, Lc_dB\n",
    "        self.K1_dB, self.K2_dB = K1_dB, K2_dB\n",
    "        \n",
    "    def __call__(self, inputs, return_crosstalk=False):\n",
    "        pnn_inputs = inputs.squeeze()[:,np.newaxis].astype(np.complex128)\n",
    "        [E_sig, P_xtalk] = reconstruct_clements_pnn(self.p_u, self.t_u, self.a_u, \n",
    "                                 pnn_inputs,\n",
    "                                 np.zeros_like(pnn_inputs, dtype=np.complex128),\n",
    "                                 block='mzi',\n",
    "                                 Lp_dB=self.Lp_dB, Lc_dB=self.Lc_dB, K1_dB=self.K1_dB, K2_dB=self.K2_dB)\n",
    "        if not return_crosstalk:\n",
    "            E_sig = photo_detector(E_sig, P_xtalk)\n",
    "        \n",
    "        E_sig = diagonal_attenuator(E_sig, self.s, num_output=self.v.shape[0])\n",
    "        P_xtalk = diagonal_attenuator(P_xtalk, self.s, num_output=self.v.shape[0])\n",
    "        \n",
    "        [E_sig, P_xtalk] = reconstruct_clements_pnn(self.p_v, self.t_v, self.a_v,\n",
    "                                 E_sig,\n",
    "                                 P_xtalk,\n",
    "                                 block='mzi',\n",
    "                                 Lp_dB=self.Lp_dB, Lc_dB=self.Lc_dB, K1_dB=self.K1_dB, K2_dB=self.K2_dB)\n",
    "        if not return_crosstalk:\n",
    "            E_sig = photo_detector(E_sig, P_xtalk)\n",
    "        \n",
    "        if return_crosstalk:\n",
    "            return E_sig, P_xtalk\n",
    "        else:\n",
    "            return E_sig"
   ]
  },
  {
   "cell_type": "markdown",
   "id": "d6c0c100",
   "metadata": {},
   "source": [
    "## Measurement of Post-Rectification Factor"
   ]
  },
  {
   "cell_type": "code",
   "execution_count": null,
   "id": "35f541ec",
   "metadata": {
    "ExecuteTime": {
     "end_time": "2021-09-18T01:13:11.028828Z",
     "start_time": "2021-09-18T01:13:04.588835Z"
    }
   },
   "outputs": [],
   "source": [
    "Lp_dB = -0.05\n",
    "Lc_dB = -0.1\n",
    "K1_dB = -30\n",
    "K2_dB = -30\n",
    "\n",
    "pnn_test = PNN(np.eye(120), Lp_dB=Lp_dB, Lc_dB=Lc_dB, K1_dB=K1_dB, K2_dB=K2_dB)\n",
    "[E_sig, P_xtalk] = pnn_test(pnn_inputs, return_crosstalk=True)\n",
    "\n",
    "avg_intensity = np.mean(np.abs(E_sig) ** 2 + P_xtalk)\n",
    "eta_factor = 1 / avg_intensity\n",
    "\n",
    "print(avg_intensity.real, np.mean(np.abs(E_sig) ** 2).real, np.mean(P_xtalk).real)\n",
    "print(f'Post Rectification Factor: eta = {np.real(eta_factor)} = {10 ** (np.real(eta_factor)/10)} dB')"
   ]
  },
  {
   "cell_type": "code",
   "execution_count": null,
   "id": "5afb204c",
   "metadata": {},
   "outputs": [],
   "source": []
  }
 ],
 "metadata": {
  "kernelspec": {
   "display_name": "Python 3",
   "language": "python",
   "name": "python3"
  },
  "language_info": {
   "codemirror_mode": {
    "name": "ipython",
    "version": 3
   },
   "file_extension": ".py",
   "mimetype": "text/x-python",
   "name": "python",
   "nbconvert_exporter": "python",
   "pygments_lexer": "ipython3",
   "version": "3.9.21"
  },
  "toc": {
   "base_numbering": 1,
   "nav_menu": {},
   "number_sections": true,
   "sideBar": true,
   "skip_h1_title": false,
   "title_cell": "Table of Contents",
   "title_sidebar": "Contents",
   "toc_cell": false,
   "toc_position": {},
   "toc_section_display": true,
   "toc_window_display": false
  },
  "varInspector": {
   "cols": {
    "lenName": 16,
    "lenType": 16,
    "lenVar": 40
   },
   "kernels_config": {
    "python": {
     "delete_cmd_postfix": "",
     "delete_cmd_prefix": "del ",
     "library": "var_list.py",
     "varRefreshCmd": "print(var_dic_list())"
    },
    "r": {
     "delete_cmd_postfix": ") ",
     "delete_cmd_prefix": "rm(",
     "library": "var_list.r",
     "varRefreshCmd": "cat(var_dic_list()) "
    }
   },
   "types_to_exclude": [
    "module",
    "function",
    "builtin_function_or_method",
    "instance",
    "_Feature"
   ],
   "window_display": false
  }
 },
 "nbformat": 4,
 "nbformat_minor": 5
}

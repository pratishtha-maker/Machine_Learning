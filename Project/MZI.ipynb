{
 "cells": [
  {
   "cell_type": "code",
   "execution_count": 1,
   "metadata": {},
   "outputs": [
    {
     "name": "stdout",
     "output_type": "stream",
     "text": [
      "Matrix A:\n",
      "[[1 2]\n",
      " [3 4]]\n",
      "\n",
      "Matrix U (left singular vectors):\n",
      "[[-0.40455358 -0.9145143 ]\n",
      " [-0.9145143   0.40455358]]\n",
      "\n",
      "Matrix Sigma (diagonal matrix with singular values):\n",
      "[[5.4649857  0.        ]\n",
      " [0.         0.36596619]]\n",
      "\n",
      "Matrix V^T (right singular vectors transposed):\n",
      "[[-0.57604844 -0.81741556]\n",
      " [ 0.81741556 -0.57604844]]\n",
      "\n",
      "Reconstructed Matrix A:\n",
      "[[1. 2.]\n",
      " [3. 4.]]\n"
     ]
    }
   ],
   "source": [
    "import numpy as np\n",
    "\n",
    "# Define the matrix A\n",
    "A = np.array([[1, 2], [3, 4]])\n",
    "\n",
    "# Perform SVD\n",
    "U, S, VT = np.linalg.svd(A)\n",
    "\n",
    "# Construct the diagonal matrix Sigma from the singular values\n",
    "# Sigma is m x n where m = 2 and n = 2 for this example\n",
    "Sigma = np.zeros_like(A, dtype=float)\n",
    "Sigma[:len(S), :len(S)] = np.diag(S)\n",
    "\n",
    "# Print the results\n",
    "print(\"Matrix A:\")\n",
    "print(A)\n",
    "\n",
    "print(\"\\nMatrix U (left singular vectors):\")\n",
    "print(U)\n",
    "\n",
    "print(\"\\nMatrix Sigma (diagonal matrix with singular values):\")\n",
    "print(Sigma)\n",
    "\n",
    "print(\"\\nMatrix V^T (right singular vectors transposed):\")\n",
    "print(VT)\n",
    "\n",
    "# Reconstruct the original matrix A from U, Sigma, and VT\n",
    "A_reconstructed = np.dot(U, np.dot(Sigma, VT))\n",
    "\n",
    "print(\"\\nReconstructed Matrix A:\")\n",
    "print(A_reconstructed)\n"
   ]
  },
  {
   "cell_type": "code",
   "execution_count": 2,
   "metadata": {},
   "outputs": [
    {
     "name": "stdout",
     "output_type": "stream",
     "text": [
      "MZI Matrix:\n",
      "[[0.85355339+0.35355339j 0.14644661-0.35355339j]\n",
      " [0.14644661-0.35355339j 0.85355339+0.35355339j]]\n",
      "\n",
      "U Matrix:\n",
      "[[-0.85355339-0.35355339j -0.31796708+0.21294024j]\n",
      " [-0.14644661+0.35355339j -0.51408321-0.76764044j]]\n",
      "\n",
      "S Matrix (singular values):\n",
      "[1. 1.]\n",
      "\n",
      "Vt Matrix:\n",
      "[[-1.        +0.j        -0.        +0.j       ]\n",
      " [ 0.        +0.j        -0.83205029+0.5547002j]]\n",
      "\n",
      "Diagonal Matrix Σ:\n",
      "[[1. 0.]\n",
      " [0. 1.]]\n"
     ]
    }
   ],
   "source": [
    "import numpy as np\n",
    "\n",
    "# Define a function to simulate an MZI with a coupler matrix\n",
    "def mzi_matrix(phase_shift):\n",
    "    # 50:50 coupler matrix\n",
    "    coupler = np.array([\n",
    "        [1/np.sqrt(2), 1/np.sqrt(2)],\n",
    "        [1/np.sqrt(2), -1/np.sqrt(2)]\n",
    "    ])\n",
    "    \n",
    "    # Phase shift matrix\n",
    "    phase_shift_matrix = np.array([\n",
    "        [1, 0],\n",
    "        [0, np.exp(1j * phase_shift)]\n",
    "    ])\n",
    "    \n",
    "    # Overall MZI matrix (simplified for this example)\n",
    "    # Assuming the MZI involves a coupler followed by a phase shift and then another coupler\n",
    "    mzi = coupler @ phase_shift_matrix @ coupler\n",
    "    \n",
    "    return mzi\n",
    "\n",
    "# Define phase shift (in radians)\n",
    "phase_shift = np.pi / 4  # Example phase shift\n",
    "\n",
    "# Compute the MZI matrix\n",
    "mzi = mzi_matrix(phase_shift)\n",
    "\n",
    "# Perform Singular Value Decomposition (SVD)\n",
    "U, S, Vt = np.linalg.svd(mzi)\n",
    "\n",
    "# Display results\n",
    "print(\"MZI Matrix:\")\n",
    "print(mzi)\n",
    "\n",
    "print(\"\\nU Matrix:\")\n",
    "print(U)\n",
    "\n",
    "print(\"\\nS Matrix (singular values):\")\n",
    "print(S)\n",
    "\n",
    "print(\"\\nVt Matrix:\")\n",
    "print(Vt)\n",
    "\n",
    "# Note: S is returned as a 1D array of singular values; you may need to reconstruct the diagonal matrix\n",
    "S_matrix = np.diag(S)\n",
    "print(\"\\nDiagonal Matrix Σ:\")\n",
    "print(S_matrix)\n"
   ]
  },
  {
   "cell_type": "code",
   "execution_count": null,
   "metadata": {},
   "outputs": [],
   "source": []
  }
 ],
 "metadata": {
  "interpreter": {
   "hash": "aee8b7b246df8f9039afb4144a1f6fd8d2ca17a180786b69acc140d282b71a49"
  },
  "kernelspec": {
   "display_name": "Python 3.12.0a1 64-bit",
   "language": "python",
   "name": "python3"
  },
  "language_info": {
   "codemirror_mode": {
    "name": "ipython",
    "version": 3
   },
   "file_extension": ".py",
   "mimetype": "text/x-python",
   "name": "python",
   "nbconvert_exporter": "python",
   "pygments_lexer": "ipython3",
   "version": "3.13.0rc1"
  },
  "orig_nbformat": 4
 },
 "nbformat": 4,
 "nbformat_minor": 2
}
